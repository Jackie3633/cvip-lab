{
 "cells": [
  {
   "cell_type": "code",
   "execution_count": 2,
   "id": "140ce5c4-83b7-4803-b586-fcc9fe26eac6",
   "metadata": {},
   "outputs": [],
   "source": [
    "import cv2"
   ]
  },
  {
   "cell_type": "code",
   "execution_count": null,
   "id": "47cde106-693c-4384-a744-27799855ea52",
   "metadata": {},
   "outputs": [],
   "source": [
    "img=cv2.imread('tiger.jpg')\n",
    "cv2.imshow('original',img)\n",
    "cv2.waitKey(0)"
   ]
  },
  {
   "cell_type": "code",
   "execution_count": null,
   "id": "94c11af4-efda-444a-a58e-54f2b77229e4",
   "metadata": {},
   "outputs": [],
   "source": [
    "img_gray=cv2.cvtcolor(img,cv2.COLOR_BGR2GRAY)\n",
    "img_blur=cv2.GaussianBlur(img_gray,)3,3),0)"
   ]
  },
  {
   "cell_type": "code",
   "execution_count": null,
   "id": "50d0bbaf-29a0-48f0-b578-762ee19cba73",
   "metadata": {},
   "outputs": [],
   "source": [
    "sobelx=cv2.sobel(src=img_blur,ddepth=cv2,cv_64F,dx=1,dy=0,ksize=5)\n",
    "sobely=cv2.sobel(src=img_blur,ddepth=cv2,cv_64F,dx=0,dy=1,ksize=5)\n",
    "sobelxy=cv2.sobel(src=img_blur,ddepth=cv2,cv_64F,dx=1,dy=1,ksize=5)"
   ]
  },
  {
   "cell_type": "code",
   "execution_count": null,
   "id": "8b2a9c59-701c-4119-8652-64b54d4eeb2e",
   "metadata": {},
   "outputs": [],
   "source": [
    "cv2.imshow('sobelx',sobelx)\n",
    "cv2.waitKey(0)"
   ]
  },
  {
   "cell_type": "code",
   "execution_count": null,
   "id": "1e386e0a-3a2b-4f7a-b599-02eccf6abe3b",
   "metadata": {},
   "outputs": [],
   "source": [
    "cv2.imshow('sobely',sobely)\n",
    "cv2.waitkey(0)"
   ]
  },
  {
   "cell_type": "code",
   "execution_count": null,
   "id": "cf3ffb9e-9984-45a5-81e0-b59c31273a89",
   "metadata": {},
   "outputs": [],
   "source": [
    "cv2.imshow('sobelxy using sobel() function',sobelxy)\n",
    "cv2.waitKey(0)"
   ]
  },
  {
   "cell_type": "code",
   "execution_count": null,
   "id": "8a05c131-855c-4584-ae10-ea68b3e69743",
   "metadata": {},
   "outputs": [],
   "source": [
    "edge=cv2.canny(image=imgblur,threshold=100,threshold2=200)\n",
    "cv2.imshow(\"Canny edge detection,edge)\n",
    "cv2.waitKey(0)"
   ]
  },
  {
   "cell_type": "code",
   "execution_count": null,
   "id": "209d06d9-b5ae-4602-b5f1-ca5ccebb3847",
   "metadata": {},
   "outputs": [],
   "source": []
  }
 ],
 "metadata": {
  "kernelspec": {
   "display_name": "Python 3 (ipykernel)",
   "language": "python",
   "name": "python3"
  },
  "language_info": {
   "codemirror_mode": {
    "name": "ipython",
    "version": 3
   },
   "file_extension": ".py",
   "mimetype": "text/x-python",
   "name": "python",
   "nbconvert_exporter": "python",
   "pygments_lexer": "ipython3",
   "version": "3.12.3"
  }
 },
 "nbformat": 4,
 "nbformat_minor": 5
}
