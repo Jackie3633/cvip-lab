{
 "cells": [
  {
   "cell_type": "code",
   "execution_count": 5,
   "id": "a707b4ee-327c-47f3-bcc8-8c58a69d7d35",
   "metadata": {},
   "outputs": [],
   "source": [
    "import cv2\n",
    "import numpy as np\n",
    "image= cv2.imread('test.jpg')"
   ]
  },
  {
   "cell_type": "code",
   "execution_count": 9,
   "id": "1d462cf4-d60b-413e-a012-ae68bff8cd57",
   "metadata": {},
   "outputs": [
    {
     "name": "stdout",
     "output_type": "stream",
     "text": [
      "Could not read image\n"
     ]
    }
   ],
   "source": [
    "if image is None:\n",
    "    print(\"Could not read image\")"
   ]
  },
  {
   "cell_type": "code",
   "execution_count": 23,
   "id": "164b50fc-5ba3-4398-a784-d4e6bb81b8bb",
   "metadata": {},
   "outputs": [
    {
     "ename": "error",
     "evalue": "OpenCV(4.10.0) C:\\b\\abs_e4cxka7_7g\\croot\\opencv-suite_1738943368733\\work\\modules\\imgproc\\src\\filter.dispatch.cpp:1528: error: (-215:Assertion failed) !_src.empty() in function 'cv::filter2D'\n",
     "output_type": "error",
     "traceback": [
      "\u001b[1;31m---------------------------------------------------------------------------\u001b[0m",
      "\u001b[1;31merror\u001b[0m                                     Traceback (most recent call last)",
      "Cell \u001b[1;32mIn[23], line 4\u001b[0m\n\u001b[0;32m      1\u001b[0m kernel1\u001b[38;5;241m=\u001b[39mnp\u001b[38;5;241m.\u001b[39marray([[\u001b[38;5;241m0\u001b[39m,\u001b[38;5;241m0\u001b[39m,\u001b[38;5;241m0\u001b[39m],\n\u001b[0;32m      2\u001b[0m [\u001b[38;5;241m0\u001b[39m,\u001b[38;5;241m1\u001b[39m,\u001b[38;5;241m0\u001b[39m],\n\u001b[0;32m      3\u001b[0m [\u001b[38;5;241m0\u001b[39m,\u001b[38;5;241m0\u001b[39m,\u001b[38;5;241m0\u001b[39m]])\n\u001b[1;32m----> 4\u001b[0m identity\u001b[38;5;241m=\u001b[39m cv2\u001b[38;5;241m.\u001b[39mfilter2D(src\u001b[38;5;241m=\u001b[39mimage,ddepth\u001b[38;5;241m=\u001b[39m\u001b[38;5;241m-\u001b[39m\u001b[38;5;241m1\u001b[39m,kernel\u001b[38;5;241m=\u001b[39mkernel1)\n\u001b[0;32m      5\u001b[0m cv2\u001b[38;5;241m.\u001b[39mimshow(\u001b[38;5;124m\"\u001b[39m\u001b[38;5;124mOriginal \u001b[39m\u001b[38;5;124m\"\u001b[39m,image)\n\u001b[0;32m      6\u001b[0m cv2\u001b[38;5;241m.\u001b[39mimshow(\u001b[38;5;124m\"\u001b[39m\u001b[38;5;124mIdentity\u001b[39m\u001b[38;5;124m\"\u001b[39m,identity)\n",
      "\u001b[1;31merror\u001b[0m: OpenCV(4.10.0) C:\\b\\abs_e4cxka7_7g\\croot\\opencv-suite_1738943368733\\work\\modules\\imgproc\\src\\filter.dispatch.cpp:1528: error: (-215:Assertion failed) !_src.empty() in function 'cv::filter2D'\n"
     ]
    }
   ],
   "source": [
    " kernel1=np.array([[0,0,0],\n",
    " [0,1,0],\n",
    " [0,0,0]])\n",
    " identity= cv2.filter2D(src=image,ddepth=-1,kernel=kernel1)\n",
    " cv2.imshow(\"Original \",image)\n",
    " cv2.imshow(\"Identity\",identity)\n",
    " cv2.waitKey(0)\n",
    " cv2.imwrite(\"identity.jpg\",identity)\n",
    " cv2.destroyAllWindows()"
   ]
  },
  {
   "cell_type": "code",
   "execution_count": 25,
   "id": "f74037d7-c6ce-45b9-ae49-156431254627",
   "metadata": {},
   "outputs": [
    {
     "ename": "error",
     "evalue": "OpenCV(4.10.0) C:\\b\\abs_e4cxka7_7g\\croot\\opencv-suite_1738943368733\\work\\modules\\imgproc\\src\\filter.dispatch.cpp:1528: error: (-215:Assertion failed) !_src.empty() in function 'cv::filter2D'\n",
     "output_type": "error",
     "traceback": [
      "\u001b[1;31m---------------------------------------------------------------------------\u001b[0m",
      "\u001b[1;31merror\u001b[0m                                     Traceback (most recent call last)",
      "Cell \u001b[1;32mIn[25], line 2\u001b[0m\n\u001b[0;32m      1\u001b[0m kernel2\u001b[38;5;241m=\u001b[39mnp\u001b[38;5;241m.\u001b[39mones((\u001b[38;5;241m5\u001b[39m,\u001b[38;5;241m5\u001b[39m),np\u001b[38;5;241m.\u001b[39mfloat32) \u001b[38;5;241m/\u001b[39m\u001b[38;5;241m25\u001b[39m\n\u001b[1;32m----> 2\u001b[0m img\u001b[38;5;241m=\u001b[39m cv2\u001b[38;5;241m.\u001b[39mfilter2D(src\u001b[38;5;241m=\u001b[39mimage,ddepth\u001b[38;5;241m=\u001b[39m\u001b[38;5;241m-\u001b[39m\u001b[38;5;241m1\u001b[39m,kernel\u001b[38;5;241m=\u001b[39mkernel2)\n\u001b[0;32m      3\u001b[0m cv2\u001b[38;5;241m.\u001b[39mimshow(\u001b[38;5;124m\"\u001b[39m\u001b[38;5;124mOriginal \u001b[39m\u001b[38;5;124m\"\u001b[39m,image)\n\u001b[0;32m      4\u001b[0m cv2\u001b[38;5;241m.\u001b[39mimshow(\u001b[38;5;124m\"\u001b[39m\u001b[38;5;124mKernel Blur\u001b[39m\u001b[38;5;124m\"\u001b[39m,identity)\n",
      "\u001b[1;31merror\u001b[0m: OpenCV(4.10.0) C:\\b\\abs_e4cxka7_7g\\croot\\opencv-suite_1738943368733\\work\\modules\\imgproc\\src\\filter.dispatch.cpp:1528: error: (-215:Assertion failed) !_src.empty() in function 'cv::filter2D'\n"
     ]
    }
   ],
   "source": [
    " kernel2=np.ones((5,5),np.float32) /25\n",
    " img= cv2.filter2D(src=image,ddepth=-1,kernel=kernel2)\n",
    " cv2.imshow(\"Original \",image)\n",
    " cv2.imshow(\"Kernel Blur\",identity)\n",
    " cv2.waitKey(0)\n",
    " cv2.imwrite(\"blur_kernel.jpg\",identity)\n",
    " cv2.destroyAllWindows()"
   ]
  },
  {
   "cell_type": "code",
   "execution_count": 27,
   "id": "34f7bd28-772d-4f9b-888d-b1c1ed647c58",
   "metadata": {},
   "outputs": [
    {
     "ename": "NameError",
     "evalue": "name 'img' is not defined",
     "output_type": "error",
     "traceback": [
      "\u001b[1;31m---------------------------------------------------------------------------\u001b[0m",
      "\u001b[1;31mNameError\u001b[0m                                 Traceback (most recent call last)",
      "Cell \u001b[1;32mIn[27], line 1\u001b[0m\n\u001b[1;32m----> 1\u001b[0m img_blur\u001b[38;5;241m=\u001b[39m cv2\u001b[38;5;241m.\u001b[39mblur(src\u001b[38;5;241m=\u001b[39mimg,ksize\u001b[38;5;241m=\u001b[39m(\u001b[38;5;241m5\u001b[39m,\u001b[38;5;241m5\u001b[39m))\n",
      "\u001b[1;31mNameError\u001b[0m: name 'img' is not defined"
     ]
    }
   ],
   "source": [
    " img_blur= cv2.blur(src=img,ksize=(5,5))"
   ]
  },
  {
   "cell_type": "code",
   "execution_count": 31,
   "id": "b0fcef3b-ad93-411b-b5e3-cbd294742372",
   "metadata": {},
   "outputs": [
    {
     "ename": "error",
     "evalue": "OpenCV(4.10.0) C:\\b\\abs_e4cxka7_7g\\croot\\opencv-suite_1738943368733\\work\\modules\\highgui\\src\\window.cpp:973: error: (-215:Assertion failed) size.width>0 && size.height>0 in function 'cv::imshow'\n",
     "output_type": "error",
     "traceback": [
      "\u001b[1;31m---------------------------------------------------------------------------\u001b[0m",
      "\u001b[1;31merror\u001b[0m                                     Traceback (most recent call last)",
      "Cell \u001b[1;32mIn[31], line 1\u001b[0m\n\u001b[1;32m----> 1\u001b[0m cv2\u001b[38;5;241m.\u001b[39mimshow(\u001b[38;5;124m\"\u001b[39m\u001b[38;5;124mOriginal \u001b[39m\u001b[38;5;124m\"\u001b[39m,image)\n\u001b[0;32m      2\u001b[0m cv2\u001b[38;5;241m.\u001b[39mimshow(\u001b[38;5;124m\"\u001b[39m\u001b[38;5;124mBlurred\u001b[39m\u001b[38;5;124m\"\u001b[39m,img_blur)\n\u001b[0;32m      3\u001b[0m cv2\u001b[38;5;241m.\u001b[39mwaitKey(\u001b[38;5;241m0\u001b[39m)\n",
      "\u001b[1;31merror\u001b[0m: OpenCV(4.10.0) C:\\b\\abs_e4cxka7_7g\\croot\\opencv-suite_1738943368733\\work\\modules\\highgui\\src\\window.cpp:973: error: (-215:Assertion failed) size.width>0 && size.height>0 in function 'cv::imshow'\n"
     ]
    }
   ],
   "source": [
    " cv2.imshow(\"Original \",image)\n",
    " cv2.imshow(\"Blurred\",img_blur)\n",
    " cv2.waitKey(0)\n",
    " cv2.imwrite(\"blur.jpg\",img_blur)\n",
    " cv2.destroyAllWindows()"
   ]
  },
  {
   "cell_type": "code",
   "execution_count": 33,
   "id": "311bbd11-63e8-4537-8978-06388220065d",
   "metadata": {},
   "outputs": [
    {
     "ename": "error",
     "evalue": "OpenCV(4.10.0) C:\\b\\abs_e4cxka7_7g\\croot\\opencv-suite_1738943368733\\work\\modules\\imgproc\\src\\smooth.dispatch.cpp:617: error: (-215:Assertion failed) !_src.empty() in function 'cv::GaussianBlur'\n",
     "output_type": "error",
     "traceback": [
      "\u001b[1;31m---------------------------------------------------------------------------\u001b[0m",
      "\u001b[1;31merror\u001b[0m                                     Traceback (most recent call last)",
      "Cell \u001b[1;32mIn[33], line 1\u001b[0m\n\u001b[1;32m----> 1\u001b[0m gaussian_blur\u001b[38;5;241m=\u001b[39m cv2\u001b[38;5;241m.\u001b[39mGaussianBlur(src\u001b[38;5;241m=\u001b[39mimage, ksize\u001b[38;5;241m=\u001b[39m(\u001b[38;5;241m5\u001b[39m,\u001b[38;5;241m5\u001b[39m),sigmaX\u001b[38;5;241m=\u001b[39m\u001b[38;5;241m0\u001b[39m,sigmaY\u001b[38;5;241m=\u001b[39m\u001b[38;5;241m0\u001b[39m)\n\u001b[0;32m      2\u001b[0m cv2\u001b[38;5;241m.\u001b[39mimshow(\u001b[38;5;124m\"\u001b[39m\u001b[38;5;124mOriginal \u001b[39m\u001b[38;5;124m\"\u001b[39m,image)\n\u001b[0;32m      3\u001b[0m cv2\u001b[38;5;241m.\u001b[39mimshow(\u001b[38;5;124m\"\u001b[39m\u001b[38;5;124mGaussian Bluirred\u001b[39m\u001b[38;5;124m\"\u001b[39m,gaussian_blur)\n",
      "\u001b[1;31merror\u001b[0m: OpenCV(4.10.0) C:\\b\\abs_e4cxka7_7g\\croot\\opencv-suite_1738943368733\\work\\modules\\imgproc\\src\\smooth.dispatch.cpp:617: error: (-215:Assertion failed) !_src.empty() in function 'cv::GaussianBlur'\n"
     ]
    }
   ],
   "source": [
    " gaussian_blur= cv2.GaussianBlur(src=image, ksize=(5,5),sigmaX=0,sigmaY=0)\n",
    " cv2.imshow(\"Original \",image)\n",
    " cv2.imshow(\"Gaussian Bluirred\",gaussian_blur)\n",
    " cv2.waitKey(0)\n",
    " cv2.imwrite(\"gaussian_blur.jpg\",gaussian_blur)\n",
    " cv2.destroyAllWindows()"
   ]
  },
  {
   "cell_type": "code",
   "execution_count": 35,
   "id": "2882bcd2-207c-49c2-ad39-1fd83696132e",
   "metadata": {},
   "outputs": [
    {
     "ename": "error",
     "evalue": "OpenCV(4.10.0) C:\\b\\abs_e4cxka7_7g\\croot\\opencv-suite_1738943368733\\work\\modules\\imgproc\\src\\median_blur.dispatch.cpp:283: error: (-215:Assertion failed) !_src0.empty() in function 'cv::medianBlur'\n",
     "output_type": "error",
     "traceback": [
      "\u001b[1;31m---------------------------------------------------------------------------\u001b[0m",
      "\u001b[1;31merror\u001b[0m                                     Traceback (most recent call last)",
      "Cell \u001b[1;32mIn[35], line 1\u001b[0m\n\u001b[1;32m----> 1\u001b[0m median\u001b[38;5;241m=\u001b[39m cv2\u001b[38;5;241m.\u001b[39mmedianBlur(src\u001b[38;5;241m=\u001b[39mimage, ksize\u001b[38;5;241m=\u001b[39m\u001b[38;5;241m5\u001b[39m)\n\u001b[0;32m      2\u001b[0m cv2\u001b[38;5;241m.\u001b[39mimshow(\u001b[38;5;124m\"\u001b[39m\u001b[38;5;124mOriginal \u001b[39m\u001b[38;5;124m\"\u001b[39m,image)\n\u001b[0;32m      3\u001b[0m cv2\u001b[38;5;241m.\u001b[39mimshow(\u001b[38;5;124m\"\u001b[39m\u001b[38;5;124mMedian Blurred\u001b[39m\u001b[38;5;124m\"\u001b[39m,median)\n",
      "\u001b[1;31merror\u001b[0m: OpenCV(4.10.0) C:\\b\\abs_e4cxka7_7g\\croot\\opencv-suite_1738943368733\\work\\modules\\imgproc\\src\\median_blur.dispatch.cpp:283: error: (-215:Assertion failed) !_src0.empty() in function 'cv::medianBlur'\n"
     ]
    }
   ],
   "source": [
    " median= cv2.medianBlur(src=image, ksize=5)\n",
    " cv2.imshow(\"Original \",image)\n",
    " cv2.imshow(\"Median Blurred\",median)\n",
    " cv2.waitKey(0)\n",
    " cv2.imwrite(\"median_blur.jpg\",median)\n",
    " cv2.destroyAllWindows()"
   ]
  },
  {
   "cell_type": "code",
   "execution_count": 37,
   "id": "c6cc8589-3f41-413c-a307-e0ad061684ca",
   "metadata": {},
   "outputs": [
    {
     "ename": "error",
     "evalue": "OpenCV(4.10.0) C:\\b\\abs_e4cxka7_7g\\croot\\opencv-suite_1738943368733\\work\\modules\\imgproc\\src\\filter.dispatch.cpp:1528: error: (-215:Assertion failed) !_src.empty() in function 'cv::filter2D'\n",
     "output_type": "error",
     "traceback": [
      "\u001b[1;31m---------------------------------------------------------------------------\u001b[0m",
      "\u001b[1;31merror\u001b[0m                                     Traceback (most recent call last)",
      "Cell \u001b[1;32mIn[37], line 4\u001b[0m\n\u001b[0;32m      1\u001b[0m kernel3\u001b[38;5;241m=\u001b[39mnp\u001b[38;5;241m.\u001b[39marray([[\u001b[38;5;241m0\u001b[39m,\u001b[38;5;241m-\u001b[39m\u001b[38;5;241m1\u001b[39m,\u001b[38;5;241m0\u001b[39m],\n\u001b[0;32m      2\u001b[0m [\u001b[38;5;241m-\u001b[39m\u001b[38;5;241m1\u001b[39m,\u001b[38;5;241m5\u001b[39m,\u001b[38;5;241m-\u001b[39m\u001b[38;5;241m1\u001b[39m],\n\u001b[0;32m      3\u001b[0m [\u001b[38;5;241m0\u001b[39m,\u001b[38;5;241m-\u001b[39m\u001b[38;5;241m1\u001b[39m,\u001b[38;5;241m0\u001b[39m]])\n\u001b[1;32m----> 4\u001b[0m sharp_img\u001b[38;5;241m=\u001b[39m cv2\u001b[38;5;241m.\u001b[39mfilter2D(src\u001b[38;5;241m=\u001b[39mimage,ddepth\u001b[38;5;241m=\u001b[39m\u001b[38;5;241m-\u001b[39m\u001b[38;5;241m1\u001b[39m,kernel\u001b[38;5;241m=\u001b[39mkernel3)\n\u001b[0;32m      5\u001b[0m cv2\u001b[38;5;241m.\u001b[39mimshow(\u001b[38;5;124m\"\u001b[39m\u001b[38;5;124mOriginal \u001b[39m\u001b[38;5;124m\"\u001b[39m,image)\n\u001b[0;32m      6\u001b[0m cv2\u001b[38;5;241m.\u001b[39mimshow(\u001b[38;5;124m\"\u001b[39m\u001b[38;5;124mSharpened\u001b[39m\u001b[38;5;124m\"\u001b[39m,sharp_img)\n",
      "\u001b[1;31merror\u001b[0m: OpenCV(4.10.0) C:\\b\\abs_e4cxka7_7g\\croot\\opencv-suite_1738943368733\\work\\modules\\imgproc\\src\\filter.dispatch.cpp:1528: error: (-215:Assertion failed) !_src.empty() in function 'cv::filter2D'\n"
     ]
    }
   ],
   "source": [
    " kernel3=np.array([[0,-1,0],\n",
    " [-1,5,-1],\n",
    " [0,-1,0]])\n",
    " sharp_img= cv2.filter2D(src=image,ddepth=-1,kernel=kernel3)\n",
    " cv2.imshow(\"Original \",image)\n",
    " cv2.imshow(\"Sharpened\",sharp_img)\n",
    " cv2.waitKey(0)\n",
    " cv2.imwrite(\"sharp_image.jpg\",sharp_img)\n",
    " cv2.destroyAllWindows()\n",
    "bilateral_filter=cv2.bilateralFilter(src=image,d=9,sigmaColor=75,sigmaSpace=75)\n",
    " cv2.imshow(\"Original \",image)\n",
    " cv2.imshow(\"Bilateral Filtering\",bilateral_filter)\n",
    " cv2.waitKey(0)\n",
    " cv2.imwrite(\"bilateral_filtering.jpg\",bilateral_filter)\n",
    " cv2.destroyAllWindows()"
   ]
  },
  {
   "cell_type": "code",
   "execution_count": null,
   "id": "06595ed7-4ecd-4cd8-8b17-64ed6cac8e97",
   "metadata": {},
   "outputs": [],
   "source": []
  }
 ],
 "metadata": {
  "kernelspec": {
   "display_name": "Python 3 (ipykernel)",
   "language": "python",
   "name": "python3"
  },
  "language_info": {
   "codemirror_mode": {
    "name": "ipython",
    "version": 3
   },
   "file_extension": ".py",
   "mimetype": "text/x-python",
   "name": "python",
   "nbconvert_exporter": "python",
   "pygments_lexer": "ipython3",
   "version": "3.12.3"
  }
 },
 "nbformat": 4,
 "nbformat_minor": 5
}
