{
 "cells": [
  {
   "cell_type": "code",
   "execution_count": null,
   "id": "78795022-6ecc-4f37-9ad7-e8428c27aecf",
   "metadata": {},
   "outputs": [],
   "source": [
    " import cv2\n",
    " import numpy as np\n",
    " import matplotlib.pyplot as plt\n",
    " from tensorflow.keras.datasets import mnist\n",
    " from sklearn.svm import SVC\n",
    " from sklearn.metrics import accuracy_score\n",
    " import torch\n",
    " import torch.nn as nn\n",
    " import torch.optim as optim"
   ]
  },
  {
   "cell_type": "code",
   "execution_count": null,
   "id": "ac3b8de1-8deb-480b-bdc0-3b36bee704cd",
   "metadata": {},
   "outputs": [],
   "source": [
    " device = torch.device(\"cpu\")"
   ]
  },
  {
   "cell_type": "code",
   "execution_count": null,
   "id": "c2ed85eb-bbe1-47ba-ba25-0299498d6d9b",
   "metadata": {},
   "outputs": [],
   "source": [
    " (x_train, y_train), (x_test, y_test) = mnist.load_data()"
   ]
  },
  {
   "cell_type": "code",
   "execution_count": null,
   "id": "560ac373-9b5a-4a86-afc9-1102a9717243",
   "metadata": {},
   "outputs": [],
   "source": [
    " fig, axes = plt.subplots(2, 5, figsize=(10, 5))\n",
    " for i, ax in enumerate(axes.flatten()):\n",
    "     ax.imshow(x_train[i])\n",
    "     ax.axis('off')"
   ]
  },
  {
   "cell_type": "code",
   "execution_count": null,
   "id": "a8b44b84-d920-4a6a-ac1d-b365a814d887",
   "metadata": {},
   "outputs": [],
   "source": [
    " x_train = x_train.astype('float32') / 255.0\n",
    " x_test = x_test.astype('float32') / 255.0"
   ]
  },
  {
   "cell_type": "code",
   "execution_count": null,
   "id": "29d00762-9d20-49c3-9ff9-e6307d2690b1",
   "metadata": {},
   "outputs": [],
   "source": [
    " X_train = x_train.reshape(x_train.shape[0],-1)\n",
    " X_test = x_test.reshape(x_test.shape[0],-1)"
   ]
  },
  {
   "cell_type": "code",
   "execution_count": null,
   "id": "265551dc-05a5-46b5-9023-bbda01232db5",
   "metadata": {},
   "outputs": [],
   "source": [
    " y_train = y_train.flatten()\n",
    " y_test = y_test.flatten()"
   ]
  },
  {
   "cell_type": "code",
   "execution_count": null,
   "id": "df4a064f-7260-4fd1-9f26-cb1520e3c8cf",
   "metadata": {},
   "outputs": [],
   "source": [
    " svm_model = SVC(kernel='linear')\n",
    " svm_model.fit(X_train, y_train)\n",
    " y_pred = svm_model.predict(X_test)\n",
    " print(\"SVM Accuracy:\", accuracy_score(y_test, y_pred))"
   ]
  },
  {
   "cell_type": "code",
   "execution_count": null,
   "id": "34a0ff18-90ee-4b8f-929d-a42863d2433d",
   "metadata": {},
   "outputs": [],
   "source": [
    " class NeuralNetwork(nn.Module):\n",
    "     def __init__(self, input_size, num_classes):\n",
    "         super(NeuralNetwork, self).__init__()\n",
    "         self.fc1 = nn.Linear(input_size, 64)\n",
    "         self.relu = nn.ReLU()\n",
    "         self.fc2 = nn.Linear(64, 32)\n",
    "         self.fc3 = nn.Linear(32, num_classes)\n",
    "         self.softmax = nn.Softmax(dim=1)\n",
    "     "
   ]
  },
  {
   "cell_type": "code",
   "execution_count": null,
   "id": "94d52bf4-7795-4048-b115-20d82f7c2767",
   "metadata": {},
   "outputs": [],
   "source": [
    " def forward(self, x):\n",
    "     x = self.relu(self.fc1(x))\n",
    "     x = self.relu(self.fc2(x))\n",
    "     x = self.softmax(self.fc3(x))\n",
    "     return x"
   ]
  },
  {
   "cell_type": "code",
   "execution_count": null,
   "id": "62a99932-7ec4-4985-b621-f5d12150672b",
   "metadata": {},
   "outputs": [],
   "source": [
    " # Initialize model, loss, and optimizer\n",
    " model = NeuralNetwork(X_train.shape[1], 10)\n",
    " criterion = nn.CrossEntropyLoss()\n",
    " optimizer = optim.Adam(model.parameters(), lr=0.001)"
   ]
  },
  {
   "cell_type": "code",
   "execution_count": null,
   "id": "8d081d35-4389-4f11-a837-7c7b09784b8d",
   "metadata": {},
   "outputs": [],
   "source": [
    " X_train_tensor = torch.tensor(X_train, dtype=torch.float32)\n",
    " y_train_tensor = torch.tensor(y_train, dtype=torch.long)\n",
    " X_test_tensor = torch.tensor(X_test, dtype=torch.float32)\n",
    " y_test_tensor = torch.tensor(y_test, dtype=torch.long)\n",
    " # Track loss and accuracy\n",
    " losses = []\n",
    " accuracies = []"
   ]
  },
  {
   "cell_type": "code",
   "execution_count": null,
   "id": "1d139ae3-faf0-4b64-839d-23be52a92e66",
   "metadata": {},
   "outputs": [],
   "source": [
    "epochs = 5\n",
    "for epoch in range(epochs):\n",
    "     optimizer.zero_grad()\n",
    "     outputs = model(X_train_tensor)\n",
    "     loss = criterion(outputs, y_train_tensor)\n",
    "     loss.backward()\n",
    "     optimizer.step()"
   ]
  },
  {
   "cell_type": "code",
   "execution_count": null,
   "id": "e423d704-cc1d-4b6a-b289-50e03cd64ab8",
   "metadata": {},
   "outputs": [],
   "source": [
    " losses.append(loss.item())"
   ]
  },
  {
   "cell_type": "code",
   "execution_count": null,
   "id": "f24030cb-e0f0-4184-8e4f-594142cc0324",
   "metadata": {},
   "outputs": [],
   "source": [
    " plt.figure(figsize=(12, 5))\n",
    " plt.subplot(1, 2, 1)\n",
    " plt.plot(range(1, epochs+1), losses, marker='o')\n",
    " plt.title('Loss vs Epochs')\n",
    " plt.xlabel('Epochs')\n",
    " plt.ylabel('Loss') _, predicted = torch.max(outputs, 1)\n",
    " accuracy = (predicted == y_train_tensor).sum().item() / y_train_tensor.size(0)\n",
    " accuracies.append(accuracy)"
   ]
  },
  {
   "cell_type": "code",
   "execution_count": null,
   "id": "edc92075-9afc-41c7-8cd8-51cb3155deb5",
   "metadata": {},
   "outputs": [],
   "source": [
    " print(f\"Epoch [{epoch+1}/{epochs}], Loss: {loss.item():.4f}, Accuracy: {accuracy:.4f}\")"
   ]
  },
  {
   "cell_type": "code",
   "execution_count": null,
   "id": "53d94087-2827-48c6-899b-fb1cabda121c",
   "metadata": {},
   "outputs": [],
   "source": [
    "plt.figure(figsize=(12, 5))\n",
    "\n",
    "# --- Plot 1: Loss vs Epochs ---\n",
    "plt.subplot(1, 2, 1)\n",
    "plt.plot(range(1, epochs + 1), losses, marker='o')\n",
    "plt.title('Loss vs Epochs')\n",
    "plt.xlabel('Epochs')\n",
    "plt.ylabel('Loss')"
   ]
  },
  {
   "cell_type": "code",
   "execution_count": null,
   "id": "0293f92d-de13-43b6-a364-365d86475e03",
   "metadata": {},
   "outputs": [],
   "source": [
    "# --- Plot 2: Accuracy vs Epochs ---\n",
    "plt.subplot(1, 2, 2)\n",
    "plt.plot(range(1, epochs + 1), accuracies, marker='x')\n",
    "plt.title('Accuracy vs Epochs')\n",
    "plt.xlabel('Epochs')\n",
    "plt.ylabel('Accuracy')\n",
    "\n",
    "plt.tight_layout()\n",
    "plt.show()"
   ]
  },
  {
   "cell_type": "code",
   "execution_count": null,
   "id": "b9a65d50-e915-4819-bbb4-c63262d99462",
   "metadata": {},
   "outputs": [],
   "source": [
    " plt.tight_layout()\n",
    " plt.show()"
   ]
  },
  {
   "cell_type": "code",
   "execution_count": null,
   "id": "5e92ba5f-19e2-414d-9d53-dfed9a4df75c",
   "metadata": {},
   "outputs": [],
   "source": [
    " with torch.no_grad():\n",
    "     outputs = model(X_test_tensor)\n",
    "     _, predicted = torch.max(outputs, 1)\n",
    "     accuracy = (predicted == y_test_tensor).sum().item() / y_test_tensor.size(0)\n",
    "     print(\"Neural Network Accuracy:\", accuracy)"
   ]
  },
  {
   "cell_type": "code",
   "execution_count": null,
   "id": "374641f3-1663-40c4-986e-1e2f3bf53f80",
   "metadata": {},
   "outputs": [],
   "source": []
  },
  {
   "cell_type": "code",
   "execution_count": null,
   "id": "00a09b75-5019-451a-bab5-6d10409d92b6",
   "metadata": {},
   "outputs": [],
   "source": []
  }
 ],
 "metadata": {
  "kernelspec": {
   "display_name": "Python 3 (ipykernel)",
   "language": "python",
   "name": "python3"
  },
  "language_info": {
   "codemirror_mode": {
    "name": "ipython",
    "version": 3
   },
   "file_extension": ".py",
   "mimetype": "text/x-python",
   "name": "python",
   "nbconvert_exporter": "python",
   "pygments_lexer": "ipython3",
   "version": "3.12.3"
  }
 },
 "nbformat": 4,
 "nbformat_minor": 5
}
