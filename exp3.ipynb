{
 "cells": [
  {
   "cell_type": "code",
   "execution_count": null,
   "id": "2f74fc6f-f058-40ac-bf85-54976219974d",
   "metadata": {},
   "outputs": [],
   "source": [
    " import cv2\n",
    " import os\n",
    " import numpy as np"
   ]
  },
  {
   "cell_type": "code",
   "execution_count": null,
   "id": "b93a78fd-1d1f-4b1b-9a52-c67ff02fbfce",
   "metadata": {},
   "outputs": [],
   "source": [
    " def compress_image(input_image_path, output_image_path, compression_ratio):"
   ]
  },
  {
   "cell_type": "code",
   "execution_count": null,
   "id": "bca5fcef-62ed-43e2-aa8b-95e0d9941ccc",
   "metadata": {},
   "outputs": [],
   "source": [
    " original_image = cv2.imread(input_image_path, cv2.IMREAD_GRAYSCALE)\n",
    " cv2.imshow(\"Original\", original_image)\n",
    " cv2.waitKey(0)\n",
    " cv2.destroyAllWindows()"
   ]
  },
  {
   "cell_type": "code",
   "execution_count": null,
   "id": "f4f5afea-bc3f-43cc-a0c4-4e4eaaf1828c",
   "metadata": {},
   "outputs": [],
   "source": [
    " original_image_float32 = np.float32(original_image)"
   ]
  },
  {
   "cell_type": "code",
   "execution_count": null,
   "id": "e2fa1de4-b152-45df-85dc-13abd670885f",
   "metadata": {},
   "outputs": [],
   "source": [
    " dct_image = cv2.dct(cv2.dct(original_image_float32))"
   ]
  },
  {
   "cell_type": "code",
   "execution_count": null,
   "id": "42795111-10c8-4130-aa7a-62fe7a70089d",
   "metadata": {},
   "outputs": [],
   "source": [
    " threshold = compression_ratio * np.max(np.abs(dct_image))\n",
    " dct_image = 0"
   ]
  },
  {
   "cell_type": "code",
   "execution_count": null,
   "id": "8558ce01-07ca-4b8b-a3bc-76cb2b6b94f5",
   "metadata": {},
   "outputs": [],
   "source": [
    " compressed_image = cv2.idct(cv2.idct(dct_image))"
   ]
  },
  {
   "cell_type": "code",
   "execution_count": null,
   "id": "8d9e826e-a4d7-42f4-a62b-f69e9f0aed41",
   "metadata": {},
   "outputs": [],
   "source": [
    "compressed_image_uint8 = np.uint8(compressed_image)\n",
    " cv2.imwrite(output_image_path, compressed_image_uint8)\n",
    " cv2.imshow(\"Compressed\", compressed_image_uint8)\n",
    " cv2.waitKey(0)\n",
    " cv2.destroyAllWindows()"
   ]
  },
  {
   "cell_type": "code",
   "execution_count": null,
   "id": "1ca2f57b-aca7-45ad-a51e-8440d676479b",
   "metadata": {},
   "outputs": [],
   "source": [
    " if __name__ == \"__main__\":\n",
    "     input_image_path= \"test.jpg\"\n",
    "     output_image_path= \"compressed_image.jpg\"\n",
    "     compression_ratio= 10000\n",
    "     compress_image(input_image_path, output_image_path, compression_ratio)"
   ]
  },
  {
   "cell_type": "code",
   "execution_count": null,
   "id": "685c10df-d68a-49ec-b726-e69d2937dcd2",
   "metadata": {},
   "outputs": [],
   "source": [
    " image_size = os.path.getsize(input_image_path)\n",
    " print(f\"Size of the Input Image: {image_size} bytes\")"
   ]
  },
  {
   "cell_type": "code",
   "execution_count": null,
   "id": "86189a0a-963a-41a1-9856-fa2b074a5c5c",
   "metadata": {},
   "outputs": [],
   "source": [
    " image_size1 = os.path.getsize(output_image_path)\n",
    " print(f\"Size of the Compressed Image: {image_size1} bytes\")"
   ]
  },
  {
   "cell_type": "code",
   "execution_count": null,
   "id": "ca45a922-a993-4f57-bbc6-01c27437328b",
   "metadata": {},
   "outputs": [],
   "source": [
    " print(\"helloo\")"
   ]
  },
  {
   "cell_type": "code",
   "execution_count": null,
   "id": "0a10bd52-311c-4b32-b4e6-b07af9ffcc51",
   "metadata": {},
   "outputs": [],
   "source": []
  }
 ],
 "metadata": {
  "kernelspec": {
   "display_name": "Python 3 (ipykernel)",
   "language": "python",
   "name": "python3"
  },
  "language_info": {
   "codemirror_mode": {
    "name": "ipython",
    "version": 3
   },
   "file_extension": ".py",
   "mimetype": "text/x-python",
   "name": "python",
   "nbconvert_exporter": "python",
   "pygments_lexer": "ipython3",
   "version": "3.12.3"
  }
 },
 "nbformat": 4,
 "nbformat_minor": 5
}
